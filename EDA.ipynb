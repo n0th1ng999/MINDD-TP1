{
 "cells": [
  {
   "cell_type": "markdown",
   "id": "c40beffc6ebc5e35",
   "metadata": {},
   "source": [
    "# MINDD TP1"
   ]
  },
  {
   "cell_type": "markdown",
   "id": "289de87ef7744ae2",
   "metadata": {
    "ExecuteTime": {
     "end_time": "2025-09-30T13:04:00.088142Z",
     "start_time": "2025-09-30T13:03:59.791718Z"
    }
   },
   "source": [
    "## I. Business Understanding\n"
   ]
  },
  {
   "cell_type": "markdown",
   "id": "4331cf65-f96c-4f93-8e31-f20194d9619a",
   "metadata": {},
   "source": [
    "### Objective\n",
    "\n",
    "The objective of the project is to build data-driven models to predict the success of telemarketing calls aimed at selling long-term deposits.\n",
    "\n",
    "In this context, by applying data mining, it is expected to identify influencing factors related to customers and campaigns that can significantly improve business decisions.\n",
    "\n",
    "Marketing is targeted at a specific segment of customers of a certain type. The purpose of this project is to develop a model, using the CRISP-DM methodology, that can identify and prioritize these customers.\n"
   ]
  },
  {
   "cell_type": "markdown",
   "id": "679d73d3-6bbe-4b19-8191-26870973714e",
   "metadata": {},
   "source": [
    "### The data\n",
    "\n",
    "The data is related to direct marketing campaigns of a banking institution.\n",
    "The marketing campaigns were based on phone calls. Often, more than one contact to the same client was required\n",
    "to access if the product (bank term deposit) is (or not) subscribed.\n",
    "\n",
    "It consists of:\n",
    "-  Attribute information bank client data\n",
    "-  Social and economic context attributes\n",
    "-  Other attributes (Related to the contacts made with the client prior and during campaigns)"
   ]
  },
  {
   "cell_type": "markdown",
   "id": "6abd7060-4d61-46e1-bb32-3c495512be3f",
   "metadata": {},
   "source": [
    "### What is a term deposit\n",
    "\n",
    "> *\"A term deposit is a savings' tool where money is deposited into an account at a financial institution. Term deposit investments usually have short-term maturities ranging from one month to a few years, have varying levels of required minimum deposits, and pay a fixed interest rate to the investor.\"*\n",
    ">\n",
    "> Quoted from [`Term Deposit: Definition, How It's Used, Rates, and How to Invest`](https://www.investopedia.com/terms/t/termdeposit.asp), James Chen.\n",
    "\n",
    "\n"
   ]
  },
  {
   "cell_type": "markdown",
   "id": "1faed9a0-f822-49db-84a7-eaf1f232a0e7",
   "metadata": {},
   "source": [
    "### Determining factors for individual customers to opt for term deposits\n",
    "> *\"... there are 5 groups of factors that greatly affect the decisions of individual customers to choose a savings' bank: Service quality, Safety, Related effects, Benefits financial benefits, convenience\"*\n",
    ">\n",
    ">  Tuan, L. A., Nhu, M. T. Q., & Nhan, N. le. (2021). Factors Affecting the Decision of Selecting Banking to Save Money of Individual Customers – Experimental in Da Nang City. Advances in Science, Technology and Engineering Systems Journal, 6(3), 409–417. https://doi.org/10.25046/aj060345\n",
    "\n",
    "In other words, we can expect higher conversion rates if these factors are present. It would therefore be useful to analyze the data to determine whether these elements can be identified and quantified.\n",
    "\n"
   ]
  },
  {
   "cell_type": "markdown",
   "id": "5a49c6a0-8e3f-4681-8790-0d9c36d46bc5",
   "metadata": {},
   "source": [
    "### Determining factors for telemarketing success\n",
    "\n",
    "> *\"High-quality, accurate customer data and well-targeted segments are key drivers of telemarketing success.\"*\n",
    ">\n",
    "> ICTSD. (2021). Factors affecting telemarketing productivity. International Centre for Trade and Sustainable Development. https://www.ictsd.org/unraveling-productivity-challenges-in-the-telemarketing-department\n",
    "\n",
    "> *\"Timing calls appropriately and implementing consistent follow-ups significantly improve customer engagement and conversion rates.\"*\n",
    ">\n",
    "> Tuan, L. A., Nhu, M. T. Q., & Nhan, N. L. (2018). Factors influencing customer purchasing behavior in telemarketing. So09.tci-thaijo.org. https://so09.tci-thaijo.org/index.php/PMR/article/view/5570\n",
    "\n",
    "We can also expect higher conversion rates if these factors are present. It would be useful to analyze the data and determine whether these elements can be identified and quantified.\n"
   ]
  },
  {
   "cell_type": "markdown",
   "id": "3f2cc5db-4457-4388-8b6e-0d4c7a38620d",
   "metadata": {},
   "source": [
    "### Plan\n",
    "\n",
    "#### I. Collect data\n",
    "\n",
    "#### II. Clean Data \n",
    "As mentioned in bank-information.txt, there is missing client categorical information that is defined as \"unknown\".\n",
    "\n",
    "If these values are not present in a great part of the data, the clients that have missing data should be excluded because they would either give unreliable information about the \"unknown\" group, or if they are absorbed into other groups, it would also not provide reliable information.\n",
    "\n",
    "It must be also investigated if there is abnormal data and also the conversion of data to proper numeric values and units.\n",
    "\n",
    "#### III. Explorative Data Analysis\n",
    "-  Understand the relation between properties. Try to unravel groups of customers and how they behave.\n",
    "\n",
    "-  Investigate the relation between conversion rates and the various factors\n",
    "\n",
    "-  Determine the social economic factors and how they sway the conversion rates.\n",
    "  \n",
    "-  Determine the quality of the telemarketing campaign and how it affects conversion rates.\n",
    "\n",
    "##### IIII. Create a classification machine learning model \n",
    "\n",
    "Create a model using various algorithms to fit the data onto the best possible solution\n"
   ]
  },
  {
   "cell_type": "markdown",
   "id": "520e98f5-8abc-4f11-92b9-a34fdcb7a56e",
   "metadata": {},
   "source": [
    "## II. Data Understanding"
   ]
  },
  {
   "cell_type": "markdown",
   "id": "ef76b65e180d4ba7",
   "metadata": {},
   "source": [
    "### Imports"
   ]
  },
  {
   "cell_type": "code",
   "execution_count": 1,
   "id": "b712754ac6cb834",
   "metadata": {
    "ExecuteTime": {
     "end_time": "2025-10-01T11:58:10.351511Z",
     "start_time": "2025-10-01T11:58:09.119130Z"
    }
   },
   "outputs": [],
   "source": [
    "import pandas as pd # Pandas\n",
    "\n",
    "# Math / Statistics\n",
    "import scipy as sp\n",
    "\n",
    "# Visualization Libraries\n",
    "import matplotlib as mplt\n",
    "import matplotlib.pyplot as plt\n",
    "import seaborn as sns\n"
   ]
  },
  {
   "cell_type": "markdown",
   "id": "5c50d1448a6ced69",
   "metadata": {},
   "source": "### Load Data"
  },
  {
   "cell_type": "code",
   "execution_count": 2,
   "id": "11d8ff4dc6ae9cf8",
   "metadata": {
    "ExecuteTime": {
     "end_time": "2025-10-01T12:10:41.236936Z",
     "start_time": "2025-10-01T12:10:41.158410Z"
    }
   },
   "outputs": [],
   "source": [
    "bankDF = pd.read_csv(\"bank.csv\", delimiter=\";\")"
   ]
  },
  {
   "cell_type": "code",
   "execution_count": 3,
   "id": "c939178cd9c6bb79",
   "metadata": {
    "ExecuteTime": {
     "end_time": "2025-10-01T12:12:40.066666Z",
     "start_time": "2025-10-01T12:12:40.063287Z"
    }
   },
   "outputs": [
    {
     "data": {
      "text/plain": [
       "(41188, 21)"
      ]
     },
     "execution_count": 3,
     "metadata": {},
     "output_type": "execute_result"
    }
   ],
   "source": [
    "bankDF.shape"
   ]
  },
  {
   "cell_type": "markdown",
   "id": "5816d6f9-d07a-49cd-9bf6-f7c1cfe2dc3e",
   "metadata": {},
   "source": "The Initial Dataset has 41188 rows e 21 columns"
  },
  {
   "cell_type": "code",
   "id": "e9880e1501bd3642",
   "metadata": {
    "ExecuteTime": {
     "end_time": "2025-10-01T14:51:29.111949Z",
     "start_time": "2025-10-01T14:51:28.696245Z"
    }
   },
   "source": [
    "print(\"Columns:\")\n",
    "for column in bankDF.columns:\n",
    "    print(f\"\\n - {column}\")"
   ],
   "outputs": [
    {
     "name": "stdout",
     "output_type": "stream",
     "text": [
      "Columns:\n"
     ]
    },
    {
     "ename": "NameError",
     "evalue": "name 'bankDF' is not defined",
     "output_type": "error",
     "traceback": [
      "\u001B[0;31m---------------------------------------------------------------------------\u001B[0m",
      "\u001B[0;31mNameError\u001B[0m                                 Traceback (most recent call last)",
      "Cell \u001B[0;32mIn[1], line 2\u001B[0m\n\u001B[1;32m      1\u001B[0m \u001B[38;5;28mprint\u001B[39m(\u001B[38;5;124m\"\u001B[39m\u001B[38;5;124mColumns:\u001B[39m\u001B[38;5;124m\"\u001B[39m)\n\u001B[0;32m----> 2\u001B[0m \u001B[38;5;28;01mfor\u001B[39;00m column \u001B[38;5;129;01min\u001B[39;00m bankDF\u001B[38;5;241m.\u001B[39mcolumns:\n\u001B[1;32m      3\u001B[0m     \u001B[38;5;28mprint\u001B[39m(\u001B[38;5;124mf\u001B[39m\u001B[38;5;124m\"\u001B[39m\u001B[38;5;130;01m\\n\u001B[39;00m\u001B[38;5;124m - \u001B[39m\u001B[38;5;132;01m{\u001B[39;00mcolumn\u001B[38;5;132;01m}\u001B[39;00m\u001B[38;5;124m\"\u001B[39m)\n",
      "\u001B[0;31mNameError\u001B[0m: name 'bankDF' is not defined"
     ]
    }
   ],
   "execution_count": 1
  },
  {
   "cell_type": "code",
   "execution_count": 5,
   "id": "2ba65f615f953d32",
   "metadata": {
    "ExecuteTime": {
     "end_time": "2025-10-01T12:12:12.654311Z",
     "start_time": "2025-10-01T12:12:12.623078Z"
    }
   },
   "outputs": [
    {
     "name": "stdout",
     "output_type": "stream",
     "text": [
      "<class 'pandas.core.frame.DataFrame'>\n",
      "RangeIndex: 41188 entries, 0 to 41187\n",
      "Data columns (total 21 columns):\n",
      " #   Column          Non-Null Count  Dtype  \n",
      "---  ------          --------------  -----  \n",
      " 0   age             41188 non-null  int64  \n",
      " 1   job             41188 non-null  object \n",
      " 2   marital         41188 non-null  object \n",
      " 3   education       41188 non-null  object \n",
      " 4   default         41188 non-null  object \n",
      " 5   housing         41188 non-null  object \n",
      " 6   loan            41188 non-null  object \n",
      " 7   contact         41188 non-null  object \n",
      " 8   month           41188 non-null  object \n",
      " 9   day_of_week     41188 non-null  object \n",
      " 10  duration        41188 non-null  int64  \n",
      " 11  campaign        41188 non-null  int64  \n",
      " 12  pdays           41188 non-null  int64  \n",
      " 13  previous        41188 non-null  int64  \n",
      " 14  poutcome        41188 non-null  object \n",
      " 15  emp.var.rate    41188 non-null  float64\n",
      " 16  cons.price.idx  41188 non-null  float64\n",
      " 17  cons.conf.idx   41188 non-null  float64\n",
      " 18  euribor3m       41188 non-null  float64\n",
      " 19  nr.employed     41188 non-null  float64\n",
      " 20  y               41188 non-null  object \n",
      "dtypes: float64(5), int64(5), object(11)\n",
      "memory usage: 6.6+ MB\n"
     ]
    }
   ],
   "source": [
    "bankDF.info()"
   ]
  }
 ],
 "metadata": {
  "kernelspec": {
   "display_name": "Python 3 (ipykernel)",
   "language": "python",
   "name": "python3"
  },
  "language_info": {
   "codemirror_mode": {
    "name": "ipython",
    "version": 3
   },
   "file_extension": ".py",
   "mimetype": "text/x-python",
   "name": "python",
   "nbconvert_exporter": "python",
   "pygments_lexer": "ipython3",
   "version": "3.13.5"
  }
 },
 "nbformat": 4,
 "nbformat_minor": 5
}
