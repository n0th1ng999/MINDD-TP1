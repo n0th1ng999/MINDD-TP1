
































import pandas as pd # Pandas

# Math / Statistics
import scipy as sp
import numpy as np

# Visualization Libraries
import matplotlib.pyplot as plt
import seaborn as sns




# Theming
from aquarel import load_theme

# Define your custom palette
my_palette = [
    "#B0B0B0", # gray for No
    "#4CAF50",  # green for Yes
]

# Load the theme and apply your colors
theme = (load_theme("ambivalent")
         .set_font(family="monospace")
         .set_color(palette=my_palette)
        )

theme.apply()






bankDF = pd.read_csv("bank.csv", delimiter=";")





bankDF.shape





print("Columns:")
for column in bankDF.columns:
    print(f" - {column}")





bankDF.info()





bankDF.describe()


arrayOfNonCategoricalColumns = []

for column in bankDF :
    if bankDF[column].dtype != "object":
        arrayOfNonCategoricalColumns.append(column)


print(f"Number of numeric columns: {bankDF.describe().shape[1]}\nColumns: {arrayOfNonCategoricalColumns}")


for column in bankDF.columns:
    if bankDF[column].dtype == "object":
        print(bankDF[column].value_counts(
            #normalize=True,
            sort=True), "\n")


arrayOfCategoricalColumns = []

for column in bankDF :
    if bankDF[column].dtype == "object":
        arrayOfCategoricalColumns.append(column)


print(f"Number of categorical columns: {len(bankDF.columns) - bankDF.describe().shape[1]}\nColumns: {arrayOfCategoricalColumns}")





"""
    This will be the preparation for the final dataframe
    We will drop useless columns and efectuate changes to the data to make it more suitable for the model and statistical analysis
"""

# The new DataFrane
PreppedDF = bankDF








job_counts = bankDF.groupby(['job', 'y']).size().unstack(fill_value=0)
job_counts['total'] = job_counts.sum(axis=1)
job_counts['yes_ratio'] = job_counts['yes'] / job_counts['total']
job_counts['no_ratio'] = job_counts['no'] / job_counts['total']

# Convert to percentages and round
#
job_percentages = job_counts[['yes_ratio', 'no_ratio']] * 100
job_percentages = job_percentages.round(2)
job_percentages["total"] =  job_counts["total"]

# Reset index so 'education' becomes a column
job_percentages = job_percentages.reset_index()

# Rename columns for clarity
job_percentages = job_percentages.rename(
    columns={
        'job': 'Job Type',
        'yes_ratio': 'Yes (%)',
        'no_ratio': 'No (%)',
        'total': 'Total People'
    }
)

job_percentages.sort_values(by="Job Type", ascending=True, inplace=True)
# Display the percentage table
print("Percentage of People that made Long-Term Deposits by Job Type")
display(job_percentages)


# Assuming you already have your DataFrame `job_percentages`

plt.figure(figsize=(10,6))
plt.barh(job_percentages["Job Type"], job_percentages["Yes (%)"], label="Yes (%)")
plt.barh(job_percentages["Job Type"], job_percentages["No (%)"],
         left=job_percentages["Yes (%)"], label="No (%)")

plt.xlabel("Percentage")
plt.ylabel("Job Type")
plt.title("Yes/No Percentage by Job Type")

# Set major ticks every 10%
plt.xticks(np.arange(0, 101, 10))

# Add grid lines for better readability
plt.grid(which='major', axis='x', linestyle='-', linewidth=1, alpha=0.5)
plt.grid(which='minor', axis='x', linestyle='--', linewidth=0.5, alpha=0.15)
plt.gca().xaxis.set_major_formatter(plt.FuncFormatter(lambda x, _: f"{x:.0f}%"))
plt.minorticks_on()

plt.legend(loc='upper left', bbox_to_anchor=(1, 1))
plt.show()



# Draw a barplot that counts the number of people who have made a long term deposit (y : yes or no) for each category of default (defaulted: yes , no , unkown)
fig, ax = plt.subplots( figsize = (16,9))
sns.countplot(data=bankDF, x="job", hue="y", ax=ax)
plt.title("Number of People that made Long-Term deposits by Job Type")
plt.xlabel("Defaulted")
plt.ylabel("Count of People")

# Add count labels on each bar
for container in ax.containers:
    ax.bar_label(container)

plt.xticks(rotation=-10, ha='center', position=(1.2, 0))
plt.tight_layout()

plt.show()





# Draw a barplot that counts the number of people who have made a long term deposit (y : yes or no) for each category of default (defaulted: yes , no , unkown)
ax = sns.countplot(data=bankDF, x="default", hue="y")
plt.title("Number of People that made Long-Term deposits by Default Status")
plt.xlabel("Defaulted")
plt.ylabel("Count of People")

# Add count labels on each bar
for container in ax.containers:
    ax.bar_label(container)

plt.show()



# Dropping "Default"
PreppedDF.drop(columns=["default"], inplace=True)








plt.figure(figsize=(16, 8))
ax = sns.histplot(
    data=bankDF,
    x="education",
    hue="y",
    stat="percent",
    multiple="dodge",
    shrink=0.8
)

plt.title("Percentage of People that Made Long-Term Deposits by Education Level", fontsize=16)
plt.xlabel("Education", fontsize=12)
plt.ylabel("Percentage of People", fontsize=12)

# Format y-axis as percentages
ax.yaxis.set_major_formatter(plt.FuncFormatter(lambda y, _: f'{y:.0f}%'))

ax.set_yticks(np.arange(0, 31, 5))         # Major ticks every 5%
ax.set_yticks(np.arange(0, 31, 1), minor=True)  # Minor ticks every 1%
#  Make minor ticks visible
ax.tick_params(axis="y", which="minor", length=4, color="gray", width=0.8)
ax.grid(True, which="major", axis="y", linestyle="--", linewidth=0.8, alpha=0.7)
ax.grid(True, which="minor", axis="y", linestyle=":", linewidth=0.6, alpha=0.3)

plt.tight_layout()
plt.show()



# Calculate counts and ratios
education_counts = bankDF.groupby(['education', 'y']).size().unstack(fill_value=0)
education_counts['total'] = education_counts.sum(axis=1)
education_counts['yes_ratio'] = education_counts['yes'] / education_counts['total']
education_counts['no_ratio'] = education_counts['no'] / education_counts['total']

# Convert to percentages and round
education_percentages = education_counts[['yes_ratio', 'no_ratio']] * 100
education_percentages = education_percentages.round(2)
education_percentages["total"] = education_counts['total']

# Reset index so 'education' becomes a column
education_percentages = education_percentages.reset_index()

# Rename columns for clarity
education_percentages = education_percentages.rename(
    columns={
        'education': 'Education Level',
        'yes_ratio': 'Yes (%)',
        'no_ratio': 'No (%)',
        'total': 'Total People'
    }
)

education_percentages.sort_values(by="Education Level", ascending=True, inplace=True)

# Display the percentage table
print("Percentage of People that made Long-Term Deposits by Education Level")
display(education_percentages)



# Remove illeterate
PreppedDF = PreppedDF[PreppedDF['education'] != "illiterate"]


def reassign_category_keeping_class_balance(dataFrame : pd.DataFrame , column : str, unwanted : str) -> pd.Series:
    # Filter the wanted properties
    wantedEntries = dataFrame[dataFrame[column] != unwanted]

    # Count the presence of them
    categoryCount = wantedEntries.groupby(column).count()

    # Calculate















PreppedDF = PreppedDF[PreppedDF['duration'] > 0]


fig, ax = plt.subplots(figsize=(16, 8))

# Boxplot
sns.boxplot(data=PreppedDF, hue='y', x='duration', ax=ax, fliersize=0)  # fliersize=0 hides outliers

# Boxplot (without default fliers)
sns.boxplot(data=PreppedDF, hue='y', x='duration', ax=ax, fliersize=0)

# Function to get outliers
def get_outliers(df, group_col, value_col):
    outliers = pd.DataFrame()
    for name, group in df.groupby(group_col):
        Q1 = group[value_col].quantile(0.25)
        Q3 = group[value_col].quantile(0.75)
        IQR = Q3 - Q1
        mask = (group[value_col] < Q1 - 1.5 * IQR) | (group[value_col] > Q3 + 1.5 * IQR)
        outliers = pd.concat([outliers, group[mask]])
    return outliers

# Filter only outliers
outlier_df = get_outliers(PreppedDF, 'y', 'duration')

# Add jittered points for outliers only
sns.stripplot(
    data=outlier_df,
    hue='y',
    x='duration',
    ax=ax,
    dodge=True,
    alpha=0.5,
    jitter=0.3,
    size=2
)

# Optional: remove duplicate legends
handles, labels = ax.get_legend_handles_labels()
ax.legend(handles[0:2], labels[0:2], title='y')

plt.show()



# Create subplots: 1 rows, 2 columns
fig, axes = plt.subplots(2, 1, figsize=(16, 12))

# Histogram for 'no' outcome
sns.histplot(
    data=PreppedDF[PreppedDF['y'] == 'no'],
    x='duration',
    bins=100,
    color=my_palette[0],
    alpha=0.7,
    edgecolor='black',
    ax=axes[0]
)
axes[0].set_title('Duration Distribution for y = "no"')
axes[0].set_xlabel('Duration (minutes)')
axes[0].set_ylabel('Frequency')
axes[0].axvline(
    PreppedDF[PreppedDF['y'] == 'no']['duration'].median(),
    color=my_palette[0],
    linestyle='--',
    linewidth=2,
    label=f'Median: {PreppedDF[PreppedDF["y"] == "no"]["duration"].median():.0f} secondsb'
)
# Readable ticks: keep underlying ticks at 30s but only label every 2 minutes
max_sec_no = int(PreppedDF[PreppedDF['y'] == 'no']['duration'].max())
tick_secs_no = range(0, max_sec_no + 1, 30)  # 30-second ticks
label_secs_no = range(0, max_sec_no + 1, 120)  # label every 120s = 2 min
axes[0].set_xticks(tick_secs_no)
axes[0].set_xticklabels(
    [f"{s / 60:.0f}" if s in set(label_secs_no) else "" for s in tick_secs_no],
    rotation=0
)
axes[0].legend()

# Histogram for 'yes' outcome
sns.histplot(
    data=PreppedDF[PreppedDF['y'] == 'yes'],
    x='duration',
    bins=100,
    color=my_palette[1],
    alpha=0.7,
    edgecolor='black',
    ax=axes[1]
)
axes[1].set_title('Duration Distribution for y = "yes"')
axes[1].set_xlabel('Duration (minutes)')
axes[1].set_ylabel('Frequency')
axes[1].axvline(
    PreppedDF[PreppedDF['y'] == 'yes']['duration'].median(),
    color=my_palette[1],
    linestyle='--',
    linewidth=2,
    label=f'Median: {PreppedDF[PreppedDF["y"] == "yes"]["duration"].median():.0f} seconds'
)
# Readable ticks: keep underlying ticks at 30s but only label every 2 minutes
max_sec_yes = int(PreppedDF[PreppedDF['y'] == 'yes']['duration'].max())
tick_secs_yes = range(0, max_sec_yes + 1, 30)
label_secs_yes = range(0, max_sec_yes + 1, 120)
axes[1].set_xticks(tick_secs_yes)
axes[1].set_xticklabels(
    [f"{s / 60:.0f}" if s in set(label_secs_yes) else "" for s in tick_secs_yes],
    rotation=0
)
axes[1].legend()

plt.show()



print(f"On average, the costumers that are converted spent {(PreppedDF[PreppedDF["y"] == "yes"]["duration"].median() / PreppedDF[PreppedDF["y"] == "no"]["duration"].median()):.1f}x more time a telemarketing convesation")
